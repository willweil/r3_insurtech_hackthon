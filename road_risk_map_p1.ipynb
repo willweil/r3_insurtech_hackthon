{
 "cells": [
  {
   "cell_type": "code",
   "execution_count": null,
   "metadata": {
    "collapsed": true
   },
   "outputs": [],
   "source": [
    "import numpy as np\n",
    "import pandas as pd\n",
    "import random\n",
    "import geopanda\n",
    "import matplotlib.pyplot as plt\n",
    "%matplotlib inline"
   ]
  },
  {
   "cell_type": "code",
   "execution_count": null,
   "metadata": {
    "collapsed": true
   },
   "outputs": [],
   "source": [
    "def risk_score(t1, t2, t3, t4, increment=0.00001):\n",
    "    x1 = t1[0]\n",
    "    y1 = t1[1]\n",
    "\n",
    "    x2 = t2[0]\n",
    "    y2 = t2[1]\n",
    "\n",
    "    x3 = t3[0]\n",
    "    y3 = t3[1]\n",
    "\n",
    "    x4 = t4[0]\n",
    "    y4 = t4[1]\n",
    "\n",
    "    lst = []\n",
    "    for i in np.arange(x1, x2+increment, -increment):\n",
    "        for j in np.arange(y1, y4+increment, increment):\n",
    "            lst.append([i, j])\n",
    "\n",
    "    df = pd.DataFrame(lst, columns=['lat', 'lon'])\n",
    "    len_df = df.shape[0]\n",
    "\n",
    "    random.seed(20170901)\n",
    "    risk_factor = [random.random() for i in range(df.shape[0])]\n",
    "    df['risk'] = risk_factor\n",
    "\n",
    "    return df"
   ]
  },
  {
   "cell_type": "code",
   "execution_count": null,
   "metadata": {},
   "outputs": [],
   "source": [
    "t1 = np.array([41.771297, -72.676712])\n",
    "t2 = np.array([41.771197, -72.676712])\n",
    "t3 = np.array([41.771297, -72.676584])\n",
    "t4 = np.array([41.771197, -72.676584])\n",
    "\n",
    "tmp = risk_score(t1=t1, t2=t2, t3=t3, t4=t4, increment=0.000001)\n",
    "\n",
    "print(tmp.shape)\n",
    "tmp.head()"
   ]
  },
  {
   "cell_type": "code",
   "execution_count": null,
   "metadata": {},
   "outputs": [],
   "source": [
    "for i in range(tmp.shape[0]):\n",
    "    plt.scatter(tmp.lat[i], tmp.lon[i], color = str(tmp.risk[i]))"
   ]
  },
  {
   "cell_type": "code",
   "execution_count": null,
   "metadata": {
    "collapsed": true
   },
   "outputs": [],
   "source": [
    "road_data = pd.read_csv(r'C:\\Users\\WEIL\\Desktop\\InsurTech Hackthon\\export_42932_0.csv', header=0)\n",
    "\n",
    "print(list(road_data.columns))\n",
    "print(road_data['Latitude'])"
   ]
  }
 ],
 "metadata": {
  "kernelspec": {
   "display_name": "Python 3",
   "language": "python",
   "name": "python3"
  },
  "language_info": {
   "codemirror_mode": {
    "name": "ipython",
    "version": 3
   },
   "file_extension": ".py",
   "mimetype": "text/x-python",
   "name": "python",
   "nbconvert_exporter": "python",
   "pygments_lexer": "ipython3",
   "version": "3.6.7"
  }
 },
 "nbformat": 4,
 "nbformat_minor": 2
}
